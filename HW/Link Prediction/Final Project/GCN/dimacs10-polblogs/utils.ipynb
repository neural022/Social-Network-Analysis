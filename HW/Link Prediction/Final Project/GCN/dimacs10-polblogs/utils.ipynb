{
 "cells": [
  {
   "cell_type": "code",
   "execution_count": 1,
   "metadata": {},
   "outputs": [],
   "source": [
    "import numpy as np\n",
    "\n",
    "def load_dataset(file_path, split_symbol, read_title=False):\n",
    "    node_pairs = list()\n",
    "    with open(file_path, 'r') as f:\n",
    "        if read_title:\n",
    "            title = f.readline()\n",
    "        for line in f.readlines():\n",
    "            node_pairs.append(list(line.strip().split(split_symbol)))\n",
    "        dataset_df = pd.DataFrame(node_pairs, columns=['node1', 'node2'])\n",
    "    return dataset_df\n",
    "\n",
    "def preprocess(node_pairs_df):\n",
    "    instances = list()\n",
    "    for i, row in node_pairs_df.iterrows():\n",
    "        s_index, t_index, label = row\n",
    "        instance = {\n",
    "            'source': torch.LongTensor(np.array([int(s_index)-1])),\n",
    "            'target': torch.LongTensor(np.array([int(t_index)-1])),\n",
    "            'label': torch.FloatTensor(np.array([int(label)]))\n",
    "        }\n",
    "        instances.append(instance)\n",
    "    return instances"
   ]
  }
 ],
 "metadata": {
  "kernelspec": {
   "display_name": "Python 3",
   "language": "python",
   "name": "python3"
  },
  "language_info": {
   "codemirror_mode": {
    "name": "ipython",
    "version": 3
   },
   "file_extension": ".py",
   "mimetype": "text/x-python",
   "name": "python",
   "nbconvert_exporter": "python",
   "pygments_lexer": "ipython3",
   "version": "3.8.5"
  }
 },
 "nbformat": 4,
 "nbformat_minor": 4
}
