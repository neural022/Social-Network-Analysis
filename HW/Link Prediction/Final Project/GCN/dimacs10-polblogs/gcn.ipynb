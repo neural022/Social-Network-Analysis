{
 "cells": [
  {
   "cell_type": "code",
   "execution_count": 1,
   "metadata": {},
   "outputs": [],
   "source": [
    "import numpy as np\n",
    "from time import time\n",
    "from datetime import timedelta\n",
    "\n",
    "# Pytorch\n",
    "import torch\n",
    "from torch import nn\n",
    "from torch.nn import init\n",
    "from torch.optim import AdamW\n",
    "from torch.utils.data import Dataset, DataLoader"
   ]
  },
  {
   "cell_type": "code",
   "execution_count": 2,
   "metadata": {},
   "outputs": [],
   "source": [
    "class NodePairDataset(Dataset):\n",
    "    def __init__(self, instances):\n",
    "        self.instances = instances\n",
    "\n",
    "    def __len__(self):\n",
    "        return len(self.instances)\n",
    "\n",
    "    def __getitem__(self, i):\n",
    "        instance = self.instances[i]\n",
    "        edge_embedding = instance['edge_embedding']\n",
    "        label = instance['label']\n",
    "        return edge_embedding, label\n",
    "\n",
    "def get_dataloader(instances, batch_size=1, num_workers=2):\n",
    "    dataset = NodePairDataset(instances)\n",
    "    dataloader = DataLoader(dataset, shuffle=True, batch_size=batch_size, num_workers=num_workers)\n",
    "    return dataloader"
   ]
  },
  {
   "cell_type": "code",
   "execution_count": 3,
   "metadata": {},
   "outputs": [],
   "source": [
    "class GraphConvolution(nn.Module):\n",
    "    def __init__(self, input_features, hidden_features):\n",
    "        super(GraphConvolution, self).__init__()\n",
    "        self.input_features = input_features\n",
    "        self.hidden_features = hidden_features\n",
    "        self.weight = nn.Parameter(nn.init.kaiming_normal_(torch.empty(hidden_features, input_features), mode='fan_in', nonlinearity='relu'))\n",
    "        self.bias = nn.Parameter(nn.init.kaiming_normal_(torch.empty(hidden_features, input_features), mode='fan_in', nonlinearity='relu'))\n",
    "\n",
    "    def forward(self, input_features, adj_matrix):\n",
    "        # aggregate \n",
    "        aggregate  = torch.mm(input_features, self.weight)\n",
    "        propagation = torch.spmm(adj_matrix, aggregate)\n",
    "        if self.bias:\n",
    "            return propagation + self.bias\n",
    "        return propagation"
   ]
  },
  {
   "cell_type": "code",
   "execution_count": 4,
   "metadata": {},
   "outputs": [],
   "source": [
    "class GCN(nn.Module):\n",
    "    def __init__(self, inputs_dim, hidden_dim, class_num=2):\n",
    "        super(GCN, self).__init__()\n",
    "        self.gcn_layer1 = GraphConvolution(inputs_dim, hidden_dim)\n",
    "        self.gcn_layer2 = GraphConvolution(hidden_dim, class_num)\n",
    "\n",
    "    def forward(self, input_features, adj_matrix):\n",
    "        hidden_state = nn.ReLU(self.gcn_layer1(input_features, adj_matrix))\n",
    "        hidden_state = self.gcn_layer2(input_features, adj_matrix)\n",
    "        return nn.Sigmoid(hidden_state)"
   ]
  }
 ],
 "metadata": {
  "kernelspec": {
   "display_name": "Python 3",
   "language": "python",
   "name": "python3"
  },
  "language_info": {
   "codemirror_mode": {
    "name": "ipython",
    "version": 3
   },
   "file_extension": ".py",
   "mimetype": "text/x-python",
   "name": "python",
   "nbconvert_exporter": "python",
   "pygments_lexer": "ipython3",
   "version": "3.8.5"
  }
 },
 "nbformat": 4,
 "nbformat_minor": 4
}
