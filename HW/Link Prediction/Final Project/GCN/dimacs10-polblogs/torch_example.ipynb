{
 "cells": [
  {
   "cell_type": "code",
   "execution_count": 7,
   "metadata": {},
   "outputs": [],
   "source": [
    "import torch\n",
    "import numpy as np"
   ]
  },
  {
   "cell_type": "code",
   "execution_count": 8,
   "metadata": {},
   "outputs": [
    {
     "data": {
      "text/plain": [
       "tensor([[ 1.,  4.],\n",
       "        [ 9., 16.]])"
      ]
     },
     "execution_count": 8,
     "metadata": {},
     "output_type": "execute_result"
    }
   ],
   "source": [
    "d1 = torch.Tensor([[1,2],[3,4]])\n",
    "d2 = torch.Tensor([[1,2],[3,4]])\n",
    "\n",
    "torch.mul(d1, d2)"
   ]
  },
  {
   "cell_type": "code",
   "execution_count": 13,
   "metadata": {},
   "outputs": [],
   "source": [
    "def sigmoid(x):\n",
    "    return 1 / (1+np.exp(-x))"
   ]
  },
  {
   "cell_type": "code",
   "execution_count": 52,
   "metadata": {},
   "outputs": [
    {
     "name": "stdout",
     "output_type": "stream",
     "text": [
      "tensor([[0.0007],\n",
      "        [0.0213],\n",
      "        [0.0213],\n",
      "        [0.0043],\n",
      "        [0.0113],\n",
      "        [0.0151],\n",
      "        [0.0112],\n",
      "        [0.0048]], dtype=torch.float64)\n",
      "tensor([[0.],\n",
      "        [1.],\n",
      "        [0.],\n",
      "        [1.],\n",
      "        [1.],\n",
      "        [1.],\n",
      "        [0.],\n",
      "        [1.]], dtype=torch.float64)\n",
      "\n",
      "++++++++++++++++++++\n",
      "tensor([[0.5002],\n",
      "        [0.5053],\n",
      "        [0.5053],\n",
      "        [0.5011],\n",
      "        [0.5028],\n",
      "        [0.5038],\n",
      "        [0.5028],\n",
      "        [0.5012]], dtype=torch.float64)\n",
      "BCELoss:tensor(0.6917, dtype=torch.float64)\n",
      "--------------------\n",
      "BCEWithLogitsLoss:tensor(0.6917, dtype=torch.float64)\n",
      "\n",
      "\n"
     ]
    }
   ],
   "source": [
    "x = np.array([[0.0007],\n",
    "        [0.0213],\n",
    "        [0.0213],\n",
    "        [0.0043],\n",
    "        [0.0113],\n",
    "        [0.0151],\n",
    "        [0.0112],\n",
    "        [0.0048]])\n",
    "\n",
    "t = np.array([[0.],\n",
    "        [1.],\n",
    "        [0.],\n",
    "        [1.],\n",
    "        [1.],\n",
    "        [1.],\n",
    "        [0.],\n",
    "        [1.]])\n",
    "\n",
    "\n",
    "f = torch.nn.Sigmoid()\n",
    "c = torch.nn.BCELoss()\n",
    "c2 = torch.nn.BCEWithLogitsLoss() \n",
    "\n",
    "xx = torch.from_numpy(x)\n",
    "t = torch.from_numpy(t)\n",
    "print(xx)\n",
    "print(t)\n",
    "print()\n",
    "print('+'*20)\n",
    "\n",
    "x2 = f(xx)\n",
    "print(x2)\n",
    "print('BCELoss:', end='')\n",
    "print(c(x2, t))\n",
    "\n",
    "print('-'*20)\n",
    "print('BCEWithLogitsLoss:', end='')\n",
    "print(c2(xx, t))\n",
    "\n",
    "\n",
    "\n",
    "\n",
    "print()\n",
    "print()\n",
    "# print(torch.clamp(xx, min=0, max=1))\n"
   ]
  }
 ],
 "metadata": {
  "kernelspec": {
   "display_name": "Python 3",
   "language": "python",
   "name": "python3"
  },
  "language_info": {
   "codemirror_mode": {
    "name": "ipython",
    "version": 3
   },
   "file_extension": ".py",
   "mimetype": "text/x-python",
   "name": "python",
   "nbconvert_exporter": "python",
   "pygments_lexer": "ipython3",
   "version": "3.8.5"
  }
 },
 "nbformat": 4,
 "nbformat_minor": 4
}
